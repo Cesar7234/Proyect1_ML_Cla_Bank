{
 "cells": [
  {
   "cell_type": "code",
   "execution_count": 1,
   "metadata": {},
   "outputs": [],
   "source": [
    "import pandas as pd\n",
    "import pickle\n",
    "import mlflow\n",
    "\n",
    "def load_model(model_path):\n",
    "    with open(model_path, 'rb') as f:\n",
    "        model = pickle.load(f)\n",
    "    return model\n",
    "\n",
    "def load_features(features_path):\n",
    "    X = pd.read_csv(features_path)\n",
    "    return X\n",
    "\n",
    "def generate_predictions(model, X):\n",
    "    predictions = model.predict(X)\n",
    "    return predictions\n",
    "\n",
    "def save_predictions(predictions, predictions_path):\n",
    "    pd.DataFrame(predictions, columns=['prediction']).to_csv(predictions_path, index=False)\n",
    "\n",
    "if __name__ == \"__main__\":\n",
    "    model = load_model('model.pkl')\n",
    "    X = load_features('features.csv')\n",
    "    predictions = generate_predictions(model, X)\n",
    "    save_predictions(predictions, 'predictions.csv')\n"
   ]
  }
 ],
 "metadata": {
  "kernelspec": {
   "display_name": "Python 3",
   "language": "python",
   "name": "python3"
  },
  "language_info": {
   "codemirror_mode": {
    "name": "ipython",
    "version": 3
   },
   "file_extension": ".py",
   "mimetype": "text/x-python",
   "name": "python",
   "nbconvert_exporter": "python",
   "pygments_lexer": "ipython3",
   "version": "3.11.1"
  }
 },
 "nbformat": 4,
 "nbformat_minor": 2
}
