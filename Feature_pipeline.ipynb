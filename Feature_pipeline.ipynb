{
 "cells": [
  {
   "cell_type": "code",
   "execution_count": 1,
   "metadata": {},
   "outputs": [],
   "source": [
    "import pandas as pd\n",
    "from sklearn.preprocessing import LabelEncoder\n",
    "from sklearn.feature_selection import mutual_info_classif\n",
    "\n",
    "\n",
    "def load_data(file_path):\n",
    "    data = pd.read_csv(file_path)\n",
    "    return data\n",
    "\n",
    "def preprocess_data(data):\n",
    "    # Codificar variables categóricas\n",
    "    categorical_columns = data.select_dtypes(include=['object']).columns\n",
    "    label_encoder = LabelEncoder()\n",
    "    for col in categorical_columns:\n",
    "        data[col] = label_encoder.fit_transform(data[col])\n",
    "    return data\n",
    "\n",
    "def select_features(X, y, threshold=0.01):\n",
    "    # Calcular la información mutua entre las características y la variable objetivo\n",
    "    mi_scores = mutual_info_classif(X, y, random_state=42)\n",
    "    mi_scores = pd.Series(mi_scores, index=X.columns)\n",
    "    \n",
    "    # Filtrar características con puntajes de información mutua superiores al umbral\n",
    "    selected_features = mi_scores[mi_scores > threshold].index\n",
    "    return X[selected_features]\n",
    "\n",
    "\"\"\"def save_features(data, features_path, target_path):\n",
    "    # Guardar características y objetivo\n",
    "    X = data.drop('deposit', axis=1)\n",
    "    y = data['deposit']\n",
    "    X.to_csv(features_path, index=False)\n",
    "    y.to_csv(target_path, index=False)\"\"\"\n",
    "\n",
    "def save_features(X, y, features_path, target_path):\n",
    "    # Guardar características seleccionadas y objetivo\n",
    "    X.to_csv(features_path, index=False)\n",
    "    y.to_csv(target_path, index=False)\n",
    "\n",
    "if __name__ == \"__main__\":\n",
    "    data = load_data(\"D:/Documentos/Ai Labs/Clases/Sesión 13 cuatro proyectos/Proyecto 1 Clasificación ML/bank.csv\")\n",
    "    data = preprocess_data(data)\n",
    "\n",
    "    # Separar características y variable objetivo\n",
    "    X = data.drop('deposit', axis=1)\n",
    "    y = data['deposit']\n",
    "    \n",
    "    # Selección de características utilizando Mutual Information\n",
    "    X_selected = select_features(X, y, threshold=0.01)\n",
    "    \n",
    "    # Guardar las características seleccionadas y la variable objetivo\n",
    "    save_features(X_selected, y, 'D:/Documentos/Ai Labs/Clases/Sesión 13 cuatro proyectos/Proyecto 1 Clasificación ML/features.csv', 'D:/Documentos/Ai Labs/Clases/Sesión 13 cuatro proyectos/Proyecto 1 Clasificación ML/target.csv')\n",
    "   # save_features(data, 'D:/Documentos/Ai Labs/Clases/Sesión 13 cuatro proyectos/Proyecto 1 Clasificación ML/features.csv', 'D:/Documentos/Ai Labs/Clases/Sesión 13 cuatro proyectos/Proyecto 1 Clasificación ML/target.csv')\n"
   ]
  }
 ],
 "metadata": {
  "kernelspec": {
   "display_name": "Python 3",
   "language": "python",
   "name": "python3"
  },
  "language_info": {
   "codemirror_mode": {
    "name": "ipython",
    "version": 3
   },
   "file_extension": ".py",
   "mimetype": "text/x-python",
   "name": "python",
   "nbconvert_exporter": "python",
   "pygments_lexer": "ipython3",
   "version": "3.11.1"
  }
 },
 "nbformat": 4,
 "nbformat_minor": 2
}
